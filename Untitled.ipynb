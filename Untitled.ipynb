{
 "cells": [
  {
   "cell_type": "code",
   "execution_count": 1,
   "metadata": {},
   "outputs": [],
   "source": [
    "\n",
    "from os import system\n",
    "import random"
   ]
  },
  {
   "cell_type": "code",
   "execution_count": 2,
   "metadata": {},
   "outputs": [],
   "source": [
    "null = 0\n",
    "compWins = 0\n",
    "playerWins = 0"
   ]
  },
  {
   "cell_type": "code",
   "execution_count": 3,
   "metadata": {},
   "outputs": [],
   "source": [
    "def choise():\n",
    "    print('Choose One :\\n\\n\\t1) Rock\\n\\t2) Paper\\n\\t3) Scissors\\n')"
   ]
  },
  {
   "cell_type": "code",
   "execution_count": 4,
   "metadata": {},
   "outputs": [],
   "source": [
    "def conputerChoise():\n",
    "    return random.randint(1, 3)\n"
   ]
  },
  {
   "cell_type": "code",
   "execution_count": 5,
   "metadata": {},
   "outputs": [],
   "source": [
    "def verifPlayerChoise(x):\n",
    "    if x == '1' or x == '2' or x == '3' or x == 'R' or x == 'P' or x == 'S' or x == 'ROCK' or x == 'PAPER' or x == 'SCISSORS': \n",
    "        return True\n",
    "    else:\n",
    "        return False"
   ]
  },
  {
   "cell_type": "code",
   "execution_count": 6,
   "metadata": {},
   "outputs": [],
   "source": [
    "def intInput(x):\n",
    "    if x == '1' or x == 'R' or x == 'ROCK':\n",
    "        return 1\n",
    "    elif x == '2' or x == 'P' or x == 'PAPER':\n",
    "        return 2\n",
    "    else:\n",
    "        return 3"
   ]
  },
  {
   "cell_type": "code",
   "execution_count": 7,
   "metadata": {},
   "outputs": [],
   "source": [
    "def PlayerChoise():\n",
    "    x = input('Your Choose : ')\n",
    "    while(not(verifPlayerChoise(x.upper()))):\n",
    "        x = input('Your Choose : ')\n",
    "    return intInput(x.upper())"
   ]
  },
  {
   "cell_type": "code",
   "execution_count": 8,
   "metadata": {},
   "outputs": [],
   "source": [
    "def win(c, p):\n",
    "    if c == p:\n",
    "        return 'null'\n",
    "    elif (c == 1 and p == 3) or (c == 2 and p == 3) or (c ==3 and p == 2):\n",
    "        return 'c'\n",
    "    else:\n",
    "        return 'p'"
   ]
  },
  {
   "cell_type": "code",
   "execution_count": 9,
   "metadata": {},
   "outputs": [],
   "source": [
    "def strInput(x):\n",
    "    if x == 1:\n",
    "        return 'ROCK'\n",
    "    if x == 2:\n",
    "        return 'PAPER'\n",
    "    if x == 3:\n",
    "        return 'SCISSORS'"
   ]
  },
  {
   "cell_type": "code",
   "execution_count": 10,
   "metadata": {},
   "outputs": [],
   "source": [
    "def varifTest(t):\n",
    "    if t == '':\n",
    "        return True\n",
    "    else:\n",
    "        return False"
   ]
  },
  {
   "cell_type": "code",
   "execution_count": 11,
   "metadata": {},
   "outputs": [],
   "source": [
    "def play():\n",
    "    test = True\n",
    "    while test:\n",
    "        system('cls')\n",
    "        choise()\n",
    "        compChoice = conputerChoise()\n",
    "        playerChoice = PlayerChoise()\n",
    "\n",
    "        print('Your Choise : ' + strInput(playerChoice) + ' | Computer Choise : ' + strInput(compChoice))\n",
    "        w = win(compChoice, playerChoice)\n",
    "        if w == 'null':\n",
    "            print('*** Null ***')\n",
    "            global null\n",
    "            null += 1\n",
    "        if w == 'c':\n",
    "            print('*** Computer Win ***')\n",
    "            global compWins\n",
    "            compWins += 1\n",
    "        if w == 'p':\n",
    "            print('*** Player Win ***')\n",
    "            global playerWins\n",
    "            playerWins += 1\n",
    "\n",
    "        test = varifTest(str(input('\\nPress enter to continue... ')))\n",
    "    print('\\nComputer :', compWins, ' Player :', playerWins, ' Null :', null)\n",
    "\n"
   ]
  },
  {
   "cell_type": "code",
   "execution_count": 12,
   "metadata": {},
   "outputs": [
    {
     "name": "stdout",
     "output_type": "stream",
     "text": [
      "Choose One :\n",
      "\n",
      "\t1) Rock\n",
      "\t2) Paper\n",
      "\t3) Scissors\n",
      "\n",
      "Your Choose : 1\n",
      "Your Choise : ROCK | Computer Choise : ROCK\n",
      "*** Null ***\n",
      "\n",
      "Press enter to continue... 3\n",
      "\n",
      "Computer : 0  Player : 0  Null : 1\n"
     ]
    }
   ],
   "source": [
    "play()"
   ]
  }
 ],
 "metadata": {
  "kernelspec": {
   "display_name": "Python 3",
   "language": "python",
   "name": "python3"
  },
  "language_info": {
   "codemirror_mode": {
    "name": "ipython",
    "version": 3
   },
   "file_extension": ".py",
   "mimetype": "text/x-python",
   "name": "python",
   "nbconvert_exporter": "python",
   "pygments_lexer": "ipython3",
   "version": "3.8.3"
  }
 },
 "nbformat": 4,
 "nbformat_minor": 4
}
